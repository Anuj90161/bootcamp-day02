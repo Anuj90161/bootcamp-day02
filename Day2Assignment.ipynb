{
  "cells": [
    {
      "cell_type": "markdown",
      "source": [
        "NAME ANUJ KUMAR <br>\n",
        "BOOTCAMP DAY 02"
      ],
      "metadata": {
        "id": "fgm0TSsOj5s5"
      },
      "id": "fgm0TSsOj5s5"
    },
    {
      "cell_type": "markdown",
      "id": "c069daf3",
      "metadata": {
        "id": "c069daf3"
      },
      "source": [
        "1.\tGiven a list of integers, remove all occurrences of a specific value using a list method."
      ]
    },
    {
      "cell_type": "code",
      "execution_count": null,
      "id": "12d11420",
      "metadata": {
        "id": "12d11420",
        "outputId": "6b8b81f6-46dd-4fa3-da66-e8f7e8c92928"
      },
      "outputs": [
        {
          "data": {
            "text/plain": [
              "[1, 3, 4, 5]"
            ]
          },
          "execution_count": 4,
          "metadata": {},
          "output_type": "execute_result"
        }
      ],
      "source": [
        "l = [1, 2, 3, 4, 2, 2, 5, 2]\n",
        "value_to_remove = 2\n",
        "l = [x for x in l if x != value_to_remove]\n",
        "l"
      ]
    },
    {
      "cell_type": "markdown",
      "id": "d369d5f3",
      "metadata": {
        "id": "d369d5f3"
      },
      "source": [
        "2.\tConcatenate a list of strings into a single string, with each element separated by a space, using a list method."
      ]
    },
    {
      "cell_type": "code",
      "execution_count": null,
      "id": "6888208a",
      "metadata": {
        "id": "6888208a",
        "outputId": "b8671040-bf98-41ad-881d-a84436bb138d"
      },
      "outputs": [
        {
          "data": {
            "text/plain": [
              "'Hello welcome to the bootcamp'"
            ]
          },
          "execution_count": 5,
          "metadata": {},
          "output_type": "execute_result"
        }
      ],
      "source": [
        "l1 = [\"Hello\", \"welcome\", \"to\", \"the\", \"bootcamp\"]\n",
        "result = \" \".join(l1)\n",
        "result"
      ]
    },
    {
      "cell_type": "markdown",
      "id": "bedaf9a9",
      "metadata": {
        "id": "bedaf9a9"
      },
      "source": [
        "3.\tReverse a list of integers using a built-in list method."
      ]
    },
    {
      "cell_type": "code",
      "execution_count": null,
      "id": "ff9cc06d",
      "metadata": {
        "id": "ff9cc06d",
        "outputId": "07e4a9cb-097d-4910-cf5d-7eb839a295f5"
      },
      "outputs": [
        {
          "data": {
            "text/plain": [
              "[4, 0, 7, 71, 6, 1, 4]"
            ]
          },
          "execution_count": 6,
          "metadata": {},
          "output_type": "execute_result"
        }
      ],
      "source": [
        "l3 = [4,1,6,71,7,0,4]\n",
        "l3.reverse()\n",
        "l3"
      ]
    },
    {
      "cell_type": "markdown",
      "id": "98c5e5f6",
      "metadata": {
        "id": "98c5e5f6"
      },
      "source": [
        "4.\tSort a list of numbers in descending order using a built-in list method."
      ]
    },
    {
      "cell_type": "code",
      "execution_count": null,
      "id": "73984fdf",
      "metadata": {
        "scrolled": true,
        "id": "73984fdf",
        "outputId": "cac15c73-96ff-407e-86e6-e23121f1d15b"
      },
      "outputs": [
        {
          "data": {
            "text/plain": [
              "[7, 7, 6, 4, 4, 1, 1, 0]"
            ]
          },
          "execution_count": 7,
          "metadata": {},
          "output_type": "execute_result"
        }
      ],
      "source": [
        "l4 = [4,1,6,7,1,7,0,4]\n",
        "l4.sort(reverse=True)\n",
        "l4"
      ]
    },
    {
      "cell_type": "markdown",
      "id": "c5c558ac",
      "metadata": {
        "id": "c5c558ac"
      },
      "source": [
        "5.\tGiven two lists, combine them into a single list and remove any duplicate elements using a list method."
      ]
    },
    {
      "cell_type": "code",
      "execution_count": null,
      "id": "230d2064",
      "metadata": {
        "id": "230d2064",
        "outputId": "826deae5-60b0-42ed-e3d2-ba0cdaf68a36"
      },
      "outputs": [
        {
          "data": {
            "text/plain": [
              "[1, 2, 3, 4, 5, 6, 7]"
            ]
          },
          "execution_count": 8,
          "metadata": {},
          "output_type": "execute_result"
        }
      ],
      "source": [
        "list1 = [1, 2, 3, 4, 5]\n",
        "list2 = [3, 4, 5, 6, 7]\n",
        "combined_list = list(set(list1 + list2))\n",
        "combined_list"
      ]
    },
    {
      "cell_type": "markdown",
      "id": "9f9c554e",
      "metadata": {
        "id": "9f9c554e"
      },
      "source": [
        "6.\tConvert a tuple of integers into a list and remove the first and last elements using a tuple method."
      ]
    },
    {
      "cell_type": "code",
      "execution_count": null,
      "id": "d5bcde71",
      "metadata": {
        "id": "d5bcde71",
        "outputId": "71dff7c9-a317-46ef-9a21-2b47aa877043"
      },
      "outputs": [
        {
          "data": {
            "text/plain": [
              "[8, 5, 1, 9]"
            ]
          },
          "execution_count": 11,
          "metadata": {},
          "output_type": "execute_result"
        }
      ],
      "source": [
        "t = (3,8,5,1,9,4)\n",
        "t1=list(t)[1:-1]\n",
        "# tup = t1[1:-1]\n",
        "t1"
      ]
    },
    {
      "cell_type": "markdown",
      "id": "59dd3a59",
      "metadata": {
        "id": "59dd3a59"
      },
      "source": [
        "7.\tGiven a list of tuples, extract all the first elements of each tuple into a separate list using tuple unpacking."
      ]
    },
    {
      "cell_type": "code",
      "execution_count": null,
      "id": "e5f14606",
      "metadata": {
        "id": "e5f14606",
        "outputId": "86af793b-0560-47a1-f19e-050e556a973d"
      },
      "outputs": [
        {
          "data": {
            "text/plain": [
              "[1, 3, 5]"
            ]
          },
          "execution_count": 13,
          "metadata": {},
          "output_type": "execute_result"
        }
      ],
      "source": [
        "ls = [(1,2),(3,4),(5,6)]\n",
        "sep = [x for x, _ in ls]\n",
        "sep"
      ]
    },
    {
      "cell_type": "markdown",
      "id": "3fb329b5",
      "metadata": {
        "id": "3fb329b5"
      },
      "source": [
        "8.\tCombine two tuples into a single tuple."
      ]
    },
    {
      "cell_type": "code",
      "execution_count": null,
      "id": "e9a8d40d",
      "metadata": {
        "id": "e9a8d40d",
        "outputId": "84a952d4-767f-4af3-8c8e-79a6b89de423"
      },
      "outputs": [
        {
          "data": {
            "text/plain": [
              "(1, 2, 3, 4, 5, 6)"
            ]
          },
          "execution_count": 14,
          "metadata": {},
          "output_type": "execute_result"
        }
      ],
      "source": [
        "tuple1 = (1, 2, 3)\n",
        "tuple2 = (4, 5, 6)\n",
        "comb_tuple = tuple1 + tuple2\n",
        "comb_tuple"
      ]
    },
    {
      "cell_type": "markdown",
      "id": "7539a001",
      "metadata": {
        "id": "7539a001"
      },
      "source": [
        "9.\tFind the maximum and minimum values in a tuple of numbers using tuple methods."
      ]
    },
    {
      "cell_type": "code",
      "execution_count": null,
      "id": "d3cf950e",
      "metadata": {
        "id": "d3cf950e",
        "outputId": "b9fd2878-109c-4824-c0fa-c3c5c443f745"
      },
      "outputs": [
        {
          "name": "stdout",
          "output_type": "stream",
          "text": [
            "40\n",
            "5\n"
          ]
        }
      ],
      "source": [
        "num = (10, 20, 5, 40, 30)\n",
        "maxi = max(num)\n",
        "mini = min(num)\n",
        "print(maxi)\n",
        "print(mini)"
      ]
    },
    {
      "cell_type": "markdown",
      "id": "89db55af",
      "metadata": {
        "id": "89db55af"
      },
      "source": [
        "10.\tConvert a tuple of strings into a single string, with each element separated by a comma, using tuple methods."
      ]
    },
    {
      "cell_type": "code",
      "execution_count": null,
      "id": "67d2754d",
      "metadata": {
        "id": "67d2754d",
        "outputId": "661e6066-8e2b-44d1-fbcf-812a84f46a32"
      },
      "outputs": [
        {
          "data": {
            "text/plain": [
              "'How, are, you'"
            ]
          },
          "execution_count": 16,
          "metadata": {},
          "output_type": "execute_result"
        }
      ],
      "source": [
        "s_tup = (\"How\", \"are\", \"you\")\n",
        "comb_s = ', '.join(s_tup)\n",
        "comb_s"
      ]
    },
    {
      "cell_type": "markdown",
      "id": "cd3bae84",
      "metadata": {
        "id": "cd3bae84"
      },
      "source": [
        "11.\tGiven two sets, return the union of the two sets using a set operation."
      ]
    },
    {
      "cell_type": "code",
      "execution_count": null,
      "id": "c49e158b",
      "metadata": {
        "id": "c49e158b",
        "outputId": "f1670705-08c3-4a8f-9bb8-b85456955895"
      },
      "outputs": [
        {
          "data": {
            "text/plain": [
              "{1, 2, 3, 4, 5}"
            ]
          },
          "execution_count": 43,
          "metadata": {},
          "output_type": "execute_result"
        }
      ],
      "source": [
        "set1 = {1, 2, 3}\n",
        "set2 = {3, 4, 1, 5}\n",
        "opr = set1.union(set2)\n",
        "opr\n",
        "# set_opr = set1 | set2"
      ]
    },
    {
      "cell_type": "markdown",
      "id": "85bad463",
      "metadata": {
        "id": "85bad463"
      },
      "source": [
        "12.\tFind the intersection of two sets using a set method."
      ]
    },
    {
      "cell_type": "code",
      "execution_count": null,
      "id": "0f89cf4f",
      "metadata": {
        "id": "0f89cf4f",
        "outputId": "1bcd60ec-7147-48ef-cb25-4b8381b5ae90"
      },
      "outputs": [
        {
          "data": {
            "text/plain": [
              "{1, 3}"
            ]
          },
          "execution_count": 44,
          "metadata": {},
          "output_type": "execute_result"
        }
      ],
      "source": [
        "inter_opr = set1.intersection(set2)\n",
        "inter_opr"
      ]
    },
    {
      "cell_type": "markdown",
      "id": "3f1edded",
      "metadata": {
        "id": "3f1edded"
      },
      "source": [
        "13.\tRemove all elements from one set that are also present in another set using a set method."
      ]
    },
    {
      "cell_type": "code",
      "execution_count": null,
      "id": "dcf60ace",
      "metadata": {
        "id": "dcf60ace",
        "outputId": "9f98d1be-f27a-401f-9434-6f533ee5900d"
      },
      "outputs": [
        {
          "data": {
            "text/plain": [
              "{1, 3}"
            ]
          },
          "execution_count": 45,
          "metadata": {},
          "output_type": "execute_result"
        }
      ],
      "source": [
        "set1.intersection_update(set2)\n",
        "set1"
      ]
    },
    {
      "cell_type": "markdown",
      "id": "601f7557",
      "metadata": {
        "id": "601f7557"
      },
      "source": [
        "14.\tFind the difference between two sets using a set method."
      ]
    },
    {
      "cell_type": "code",
      "execution_count": null,
      "id": "b8ea64ea",
      "metadata": {
        "id": "b8ea64ea",
        "outputId": "84c45671-dfeb-4881-d942-11ed555e595e"
      },
      "outputs": [
        {
          "data": {
            "text/plain": [
              "set()"
            ]
          },
          "execution_count": 46,
          "metadata": {},
          "output_type": "execute_result"
        }
      ],
      "source": [
        "diff_opr = set1.difference(set2)\n",
        "diff_opr"
      ]
    },
    {
      "cell_type": "markdown",
      "id": "e5904bc6",
      "metadata": {
        "id": "e5904bc6"
      },
      "source": [
        "15.\tConvert a list of integers into a set and then back to a list to remove duplicates, using set operations."
      ]
    },
    {
      "cell_type": "code",
      "execution_count": null,
      "id": "9a06e26b",
      "metadata": {
        "id": "9a06e26b",
        "outputId": "96551a3a-9b86-4192-809f-f39bb3a1f0b5"
      },
      "outputs": [
        {
          "data": {
            "text/plain": [
              "[1, 2, 3, 4, 5]"
            ]
          },
          "execution_count": 47,
          "metadata": {},
          "output_type": "execute_result"
        }
      ],
      "source": [
        "num_list = [1, 2, 3, 4, 5, 1, 2, 3]\n",
        "num_set = set(num_list)\n",
        "s = list(num_set)\n",
        "s"
      ]
    },
    {
      "cell_type": "markdown",
      "id": "94fccc2f",
      "metadata": {
        "id": "94fccc2f"
      },
      "source": [
        "16.\tMerge two dictionaries into a single dictionary using a dictionary method."
      ]
    },
    {
      "cell_type": "code",
      "execution_count": null,
      "id": "f975124d",
      "metadata": {
        "id": "f975124d",
        "outputId": "a8658e97-3608-4d2f-b584-ab2db3de8419"
      },
      "outputs": [
        {
          "data": {
            "text/plain": [
              "{'a': 1, 'b': 3, 'c': 4}"
            ]
          },
          "execution_count": 49,
          "metadata": {},
          "output_type": "execute_result"
        }
      ],
      "source": [
        "dict1 = {'a': 1, 'b': 2}\n",
        "dict2 = {'b': 3, 'c': 4}\n",
        "merged_dict = {**dict1, **dict2}\n",
        "merged_dict"
      ]
    },
    {
      "cell_type": "markdown",
      "id": "4b9f42ef",
      "metadata": {
        "id": "4b9f42ef"
      },
      "source": [
        "17.\tExtract all values from a dictionary into a list using a dictionary method."
      ]
    },
    {
      "cell_type": "code",
      "execution_count": null,
      "id": "19046351",
      "metadata": {
        "id": "19046351",
        "outputId": "4d264b3d-de7b-4466-c7be-fa22b9261890"
      },
      "outputs": [
        {
          "data": {
            "text/plain": [
              "[1, 2, 3]"
            ]
          },
          "execution_count": 48,
          "metadata": {},
          "output_type": "execute_result"
        }
      ],
      "source": [
        "my_dict = {'a': 1, 'b': 2, 'c': 3}\n",
        "values_list = list(my_dict.values())\n",
        "values_list"
      ]
    },
    {
      "cell_type": "code",
      "execution_count": null,
      "id": "680e8895",
      "metadata": {
        "id": "680e8895"
      },
      "outputs": [],
      "source": []
    }
  ],
  "metadata": {
    "kernelspec": {
      "display_name": "Python 3 (ipykernel)",
      "language": "python",
      "name": "python3"
    },
    "language_info": {
      "codemirror_mode": {
        "name": "ipython",
        "version": 3
      },
      "file_extension": ".py",
      "mimetype": "text/x-python",
      "name": "python",
      "nbconvert_exporter": "python",
      "pygments_lexer": "ipython3",
      "version": "3.9.12"
    },
    "colab": {
      "provenance": []
    }
  },
  "nbformat": 4,
  "nbformat_minor": 5
}